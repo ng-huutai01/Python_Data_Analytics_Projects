{
 "cells": [
  {
   "cell_type": "code",
   "execution_count": 1,
   "metadata": {},
   "outputs": [
    {
     "ename": "RuntimeError",
     "evalue": "clustermap requires scipy to be available",
     "output_type": "error",
     "traceback": [
      "\u001b[0;31m---------------------------------------------------------------------------\u001b[0m",
      "\u001b[0;31mRuntimeError\u001b[0m                              Traceback (most recent call last)",
      "Cell \u001b[0;32mIn[1], line 24\u001b[0m\n\u001b[1;32m     21\u001b[0m network_colors \u001b[39m=\u001b[39m pd\u001b[39m.\u001b[39mSeries(networks, index\u001b[39m=\u001b[39mdf\u001b[39m.\u001b[39mcolumns)\u001b[39m.\u001b[39mmap(network_lut)\n\u001b[1;32m     23\u001b[0m \u001b[39m# Draw the full plot\u001b[39;00m\n\u001b[0;32m---> 24\u001b[0m g \u001b[39m=\u001b[39m sns\u001b[39m.\u001b[39;49mclustermap(df\u001b[39m.\u001b[39;49mcorr(), center\u001b[39m=\u001b[39;49m\u001b[39m0\u001b[39;49m, cmap\u001b[39m=\u001b[39;49m\u001b[39m\"\u001b[39;49m\u001b[39mvlag\u001b[39;49m\u001b[39m\"\u001b[39;49m,\n\u001b[1;32m     25\u001b[0m                    row_colors\u001b[39m=\u001b[39;49mnetwork_colors, col_colors\u001b[39m=\u001b[39;49mnetwork_colors,\n\u001b[1;32m     26\u001b[0m                    dendrogram_ratio\u001b[39m=\u001b[39;49m(\u001b[39m.1\u001b[39;49m, \u001b[39m.2\u001b[39;49m),\n\u001b[1;32m     27\u001b[0m                    cbar_pos\u001b[39m=\u001b[39;49m(\u001b[39m.02\u001b[39;49m, \u001b[39m.32\u001b[39;49m, \u001b[39m.03\u001b[39;49m, \u001b[39m.2\u001b[39;49m),\n\u001b[1;32m     28\u001b[0m                    linewidths\u001b[39m=\u001b[39;49m\u001b[39m.75\u001b[39;49m, figsize\u001b[39m=\u001b[39;49m(\u001b[39m12\u001b[39;49m, \u001b[39m13\u001b[39;49m))\n\u001b[1;32m     30\u001b[0m g\u001b[39m.\u001b[39max_row_dendrogram\u001b[39m.\u001b[39mremove()\n",
      "File \u001b[0;32m/workspaces/Python_Data_Analytics_Projects/.venv/lib/python3.8/site-packages/seaborn/matrix.py:1250\u001b[0m, in \u001b[0;36mclustermap\u001b[0;34m(data, pivot_kws, method, metric, z_score, standard_scale, figsize, cbar_kws, row_cluster, col_cluster, row_linkage, col_linkage, row_colors, col_colors, mask, dendrogram_ratio, colors_ratio, cbar_pos, tree_kws, **kwargs)\u001b[0m\n\u001b[1;32m   1157\u001b[0m \u001b[39m\u001b[39m\u001b[39m\"\"\"\u001b[39;00m\n\u001b[1;32m   1158\u001b[0m \u001b[39mPlot a matrix dataset as a hierarchically-clustered heatmap.\u001b[39;00m\n\u001b[1;32m   1159\u001b[0m \n\u001b[0;32m   (...)\u001b[0m\n\u001b[1;32m   1247\u001b[0m \n\u001b[1;32m   1248\u001b[0m \u001b[39m\"\"\"\u001b[39;00m\n\u001b[1;32m   1249\u001b[0m \u001b[39mif\u001b[39;00m _no_scipy:\n\u001b[0;32m-> 1250\u001b[0m     \u001b[39mraise\u001b[39;00m \u001b[39mRuntimeError\u001b[39;00m(\u001b[39m\"\u001b[39m\u001b[39mclustermap requires scipy to be available\u001b[39m\u001b[39m\"\u001b[39m)\n\u001b[1;32m   1252\u001b[0m plotter \u001b[39m=\u001b[39m ClusterGrid(data, pivot_kws\u001b[39m=\u001b[39mpivot_kws, figsize\u001b[39m=\u001b[39mfigsize,\n\u001b[1;32m   1253\u001b[0m                       row_colors\u001b[39m=\u001b[39mrow_colors, col_colors\u001b[39m=\u001b[39mcol_colors,\n\u001b[1;32m   1254\u001b[0m                       z_score\u001b[39m=\u001b[39mz_score, standard_scale\u001b[39m=\u001b[39mstandard_scale,\n\u001b[1;32m   1255\u001b[0m                       mask\u001b[39m=\u001b[39mmask, dendrogram_ratio\u001b[39m=\u001b[39mdendrogram_ratio,\n\u001b[1;32m   1256\u001b[0m                       colors_ratio\u001b[39m=\u001b[39mcolors_ratio, cbar_pos\u001b[39m=\u001b[39mcbar_pos)\n\u001b[1;32m   1258\u001b[0m \u001b[39mreturn\u001b[39;00m plotter\u001b[39m.\u001b[39mplot(metric\u001b[39m=\u001b[39mmetric, method\u001b[39m=\u001b[39mmethod,\n\u001b[1;32m   1259\u001b[0m                     colorbar_kws\u001b[39m=\u001b[39mcbar_kws,\n\u001b[1;32m   1260\u001b[0m                     row_cluster\u001b[39m=\u001b[39mrow_cluster, col_cluster\u001b[39m=\u001b[39mcol_cluster,\n\u001b[1;32m   1261\u001b[0m                     row_linkage\u001b[39m=\u001b[39mrow_linkage, col_linkage\u001b[39m=\u001b[39mcol_linkage,\n\u001b[1;32m   1262\u001b[0m                     tree_kws\u001b[39m=\u001b[39mtree_kws, \u001b[39m*\u001b[39m\u001b[39m*\u001b[39mkwargs)\n",
      "\u001b[0;31mRuntimeError\u001b[0m: clustermap requires scipy to be available"
     ]
    }
   ],
   "source": [
    "import pandas as pd\n",
    "import seaborn as sns\n",
    "sns.set_theme()\n",
    "\n",
    "# Load the brain networks example dataset\n",
    "df = sns.load_dataset(\"brain_networks\", header=[0, 1, 2], index_col=0)\n",
    "\n",
    "# Select a subset of the networks\n",
    "used_networks = [1, 5, 6, 7, 8, 12, 13, 17]\n",
    "used_columns = (df.columns.get_level_values(\"network\")\n",
    "                          .astype(int)\n",
    "                          .isin(used_networks))\n",
    "df = df.loc[:, used_columns]\n",
    "\n",
    "# Create a categorical palette to identify the networks\n",
    "network_pal = sns.husl_palette(8, s=.45)\n",
    "network_lut = dict(zip(map(str, used_networks), network_pal))\n",
    "\n",
    "# Convert the palette to vectors that will be drawn on the side of the matrix\n",
    "networks = df.columns.get_level_values(\"network\")\n",
    "network_colors = pd.Series(networks, index=df.columns).map(network_lut)\n",
    "\n",
    "# Draw the full plot\n",
    "g = sns.clustermap(df.corr(), center=0, cmap=\"vlag\",\n",
    "                   row_colors=network_colors, col_colors=network_colors,\n",
    "                   dendrogram_ratio=(.1, .2),\n",
    "                   cbar_pos=(.02, .32, .03, .2),\n",
    "                   linewidths=.75, figsize=(12, 13))\n",
    "\n",
    "g.ax_row_dendrogram.remove()"
   ]
  }
 ],
 "metadata": {
  "kernelspec": {
   "display_name": ".venv",
   "language": "python",
   "name": "python3"
  },
  "language_info": {
   "codemirror_mode": {
    "name": "ipython",
    "version": 3
   },
   "file_extension": ".py",
   "mimetype": "text/x-python",
   "name": "python",
   "nbconvert_exporter": "python",
   "pygments_lexer": "ipython3",
   "version": "3.8.10"
  },
  "orig_nbformat": 4
 },
 "nbformat": 4,
 "nbformat_minor": 2
}
